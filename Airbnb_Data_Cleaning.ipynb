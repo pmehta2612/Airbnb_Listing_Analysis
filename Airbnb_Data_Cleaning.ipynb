{
  "nbformat": 4,
  "nbformat_minor": 0,
  "metadata": {
    "colab": {
      "provenance": []
    },
    "kernelspec": {
      "name": "python3",
      "display_name": "Python 3"
    },
    "language_info": {
      "name": "python"
    }
  },
  "cells": [
    {
      "cell_type": "code",
      "execution_count": null,
      "metadata": {
        "id": "uLQdvcPRcDFW"
      },
      "outputs": [],
      "source": [
        "# Import libraries\n",
        "import pandas as pd\n",
        "import numpy as np\n",
        "import matplotlib.pyplot as plt\n",
        "import seaborn as sns\n",
        "import warnings\n",
        "warnings.filterwarnings('ignore')"
      ]
    },
    {
      "cell_type": "code",
      "source": [
        "# Importing Dataset\n",
        "# Mount Google Drive\n",
        "from google.colab import drive\n",
        "drive.mount('/content/drive')\n",
        "\n",
        "# Load Dataset\n",
        "# Function to load a CSV file into a pandas DataFrame\n",
        "def load_csv(file_path):\n",
        "    try:\n",
        "        return pd.read_csv(file_path)  # Load the CSV file\n",
        "    except Exception as e:\n",
        "        print(f\"Error: {e}\")  # Print error message if loading fails\n",
        "        return None  # Return None in case of failure\n",
        "\n",
        "# Define file paths for the dfs\n",
        "chicago_path = '/content/drive/MyDrive/Airbnb_Project/listings (Chicago).csv'  # File path for the 'chicago' df\n",
        "new_orleans_path = '/content/drive/MyDrive/Airbnb_Project/listings (New Orleans).csv' # File path for 'new orleans' df\n",
        "# Load the df using the load_csv function\n",
        "chicago_df = load_csv(file_path=chicago_path)  # Load chicago df\n",
        "new_orleans_df = load_csv(file_path=new_orleans_path)  # Load new orleans df\n",
        "# Display all columns\n",
        "pd.set_option('display.max_columns', None)\n"
      ],
      "metadata": {
        "colab": {
          "base_uri": "https://localhost:8080/"
        },
        "id": "S8E33LCycQ2o",
        "outputId": "668f9e1f-7f97-4113-d728-6c4295ac72b4"
      },
      "execution_count": null,
      "outputs": [
        {
          "output_type": "stream",
          "name": "stdout",
          "text": [
            "Mounted at /content/drive\n"
          ]
        }
      ]
    },
    {
      "cell_type": "code",
      "source": [
        "# Add the city column to each DataFrame\n",
        "chicago_df['City'] = 'Chicago'\n",
        "new_orleans_df['City'] = 'New Orleans'"
      ],
      "metadata": {
        "id": "5YLvz7l9kqZ9"
      },
      "execution_count": null,
      "outputs": []
    },
    {
      "cell_type": "code",
      "source": [
        "# Combine the two datasets\n",
        "combined_df = pd.concat([chicago_df, new_orleans_df], ignore_index=True)"
      ],
      "metadata": {
        "id": "ccs3jBF_k1_7"
      },
      "execution_count": null,
      "outputs": []
    },
    {
      "cell_type": "code",
      "source": [
        "# Saving the combined dataset\n",
        "#combined_df.to_csv('/content/drive/MyDrive/Airbnb_Project/Combined_Listings.csv', index=False)"
      ],
      "metadata": {
        "id": "CrWf73e_k9hh"
      },
      "execution_count": null,
      "outputs": []
    },
    {
      "cell_type": "code",
      "source": [
        "# Create Copy of Combined df\n",
        "df = combined_df.copy()"
      ],
      "metadata": {
        "id": "A3xl7ZM0m5WA"
      },
      "execution_count": null,
      "outputs": []
    },
    {
      "cell_type": "code",
      "source": [
        "# Number of Rows and Columns\n",
        "print('Number of Rows =', df.shape[0])\n",
        "print('Number of Columns =',df.shape[1])"
      ],
      "metadata": {
        "colab": {
          "base_uri": "https://localhost:8080/"
        },
        "id": "rKF0-YS3nYR9",
        "outputId": "dbb9cd39-07f5-4de9-fac9-a53cd96b68eb"
      },
      "execution_count": null,
      "outputs": [
        {
          "output_type": "stream",
          "name": "stdout",
          "text": [
            "Number of Rows = 16590\n",
            "Number of Columns = 19\n"
          ]
        }
      ]
    },
    {
      "cell_type": "code",
      "source": [
        "# Dataset Information\n",
        "df.info()"
      ],
      "metadata": {
        "colab": {
          "base_uri": "https://localhost:8080/"
        },
        "id": "rfn7P03woDV3",
        "outputId": "35dcfd80-bd20-4033-9b8a-0a9d621d7b60"
      },
      "execution_count": null,
      "outputs": [
        {
          "output_type": "stream",
          "name": "stdout",
          "text": [
            "<class 'pandas.core.frame.DataFrame'>\n",
            "RangeIndex: 16590 entries, 0 to 16589\n",
            "Data columns (total 19 columns):\n",
            " #   Column                          Non-Null Count  Dtype  \n",
            "---  ------                          --------------  -----  \n",
            " 0   id                              16590 non-null  int64  \n",
            " 1   name                            16590 non-null  object \n",
            " 2   host_id                         16590 non-null  int64  \n",
            " 3   host_name                       16577 non-null  object \n",
            " 4   neighbourhood_group             0 non-null      float64\n",
            " 5   neighbourhood                   16590 non-null  object \n",
            " 6   latitude                        16590 non-null  float64\n",
            " 7   longitude                       16590 non-null  float64\n",
            " 8   room_type                       16590 non-null  object \n",
            " 9   price                           14358 non-null  float64\n",
            " 10  minimum_nights                  16590 non-null  int64  \n",
            " 11  number_of_reviews               16590 non-null  int64  \n",
            " 12  last_review                     13384 non-null  object \n",
            " 13  reviews_per_month               13384 non-null  float64\n",
            " 14  calculated_host_listings_count  16590 non-null  int64  \n",
            " 15  availability_365                16590 non-null  int64  \n",
            " 16  number_of_reviews_ltm           16590 non-null  int64  \n",
            " 17  license                         13338 non-null  object \n",
            " 18  City                            16590 non-null  object \n",
            "dtypes: float64(5), int64(7), object(7)\n",
            "memory usage: 2.4+ MB\n"
          ]
        }
      ]
    },
    {
      "cell_type": "code",
      "source": [
        "# Dataset Duplicate Value Count\n",
        "print('Number of Duplicates in Dataset = ', df.duplicated().sum())"
      ],
      "metadata": {
        "colab": {
          "base_uri": "https://localhost:8080/"
        },
        "id": "Q4qjFiu8rZIj",
        "outputId": "3302b3d2-b900-4bef-b9a3-82032556d96f"
      },
      "execution_count": null,
      "outputs": [
        {
          "output_type": "stream",
          "name": "stdout",
          "text": [
            "Number of Duplicates in Dataset =  0\n"
          ]
        }
      ]
    },
    {
      "cell_type": "code",
      "source": [
        "# Missing Values/Null Values Count\n",
        "print('Number of Missing/Null Values in Dataset =', df.isnull().sum().sum())"
      ],
      "metadata": {
        "colab": {
          "base_uri": "https://localhost:8080/"
        },
        "id": "rl7RtpRXrdcr",
        "outputId": "1c6bc6e6-8cd9-483e-c698-553c1e93c949"
      },
      "execution_count": null,
      "outputs": [
        {
          "output_type": "stream",
          "name": "stdout",
          "text": [
            "Number of Missing/Null Values in Dataset = 28499\n"
          ]
        }
      ]
    },
    {
      "cell_type": "code",
      "source": [
        "# Visualizing the missing values\n",
        "# Calculating the number of missing values per column\n",
        "missing_values = df.isnull().sum()\n",
        "\n",
        "# Filtering only columns with missing values\n",
        "#missing_values = missing_values[missing_values > 0]\n",
        "\n",
        "# Plotting the missing values\n",
        "fig, ax = plt.subplots(figsize=(16, 6))\n",
        "bars = ax.bar(missing_values.index, missing_values.values, color='purple')\n",
        "\n",
        "# Adding data labels on top of the bars\n",
        "for bar in bars:\n",
        "    yval = bar.get_height()\n",
        "    ax.text(bar.get_x() + bar.get_width()/2, yval, f'{yval}',\n",
        "            ha='center', va='bottom', fontsize=9, fontweight='bold', color='black')\n",
        "\n",
        "# Adding labels and title\n",
        "plt.title('Missing Values per Column', fontsize=16, fontweight='bold')\n",
        "plt.xlabel('Columns', fontsize=12)\n",
        "plt.ylabel('Number of Missing Values', fontsize=12)\n",
        "\n",
        "# Rotating x-axis labels for better readability\n",
        "plt.xticks(rotation=45)\n",
        "\n",
        "# Display the plot\n",
        "plt.show()"
      ],
      "metadata": {
        "colab": {
          "base_uri": "https://localhost:8080/",
          "height": 665
        },
        "id": "TTukvSDsreqD",
        "outputId": "8d796cc0-477f-45f7-f5cc-0cdaf7f82697"
      },
      "execution_count": null,
      "outputs": [
        {
          "output_type": "display_data",
          "data": {
            "text/plain": [
              "<Figure size 1600x600 with 1 Axes>"
            ],
            "image/png": "[encoded data removed]"
          },
          "metadata": {}
        }
      ]
    },
    {
      "cell_type": "code",
      "source": [
        "# Dataset Columns\n",
        "df.columns"
      ],
      "metadata": {
        "colab": {
          "base_uri": "https://localhost:8080/"
        },
        "id": "zUqvnuvhrvPB",
        "outputId": "62d963c9-21d0-4a9c-990d-1744b576a077"
      },
      "execution_count": null,
      "outputs": [
        {
          "output_type": "execute_result",
          "data": {
            "text/plain": [
              "Index(['id', 'name', 'host_id', 'host_name', 'neighbourhood_group',\n",
              "       'neighbourhood', 'latitude', 'longitude', 'room_type', 'price',\n",
              "       'minimum_nights', 'number_of_reviews', 'last_review',\n",
              "       'reviews_per_month', 'calculated_host_listings_count',\n",
              "       'availability_365', 'number_of_reviews_ltm', 'license', 'City'],\n",
              "      dtype='object')"
            ]
          },
          "metadata": {},
          "execution_count": 12
        }
      ]
    },
    {
      "cell_type": "code",
      "source": [
        "# Dataset Describe\n",
        "df.describe()"
      ],
      "metadata": {
        "colab": {
          "base_uri": "https://localhost:8080/",
          "height": 320
        },
        "id": "IjBNz4HWr0hN",
        "outputId": "ad376188-bf7d-482f-d3e1-c36f501483d1"
      },
      "execution_count": null,
      "outputs": [
        {
          "output_type": "execute_result",
          "data": {
            "text/plain": [
              "                 id       host_id  neighbourhood_group      latitude  \\\n",
              "count  1.659000e+04  1.659000e+04                  0.0  16590.000000   \n",
              "mean   6.080594e+17  2.282752e+08                  NaN     36.250631   \n",
              "std    5.281997e+17  2.021071e+08                  NaN      5.957724   \n",
              "min    2.384000e+03  2.613000e+03                  NaN     29.897042   \n",
              "25%    4.013421e+07  4.598474e+07                  NaN     29.960060   \n",
              "50%    7.211123e+17  1.542455e+08                  NaN     41.774399   \n",
              "75%    1.109993e+18  4.310192e+08                  NaN     41.896218   \n",
              "max    1.374052e+18  6.824743e+08                  NaN     42.022200   \n",
              "\n",
              "          longitude          price  minimum_nights  number_of_reviews  \\\n",
              "count  16590.000000   14358.000000    16590.000000       16590.000000   \n",
              "mean     -88.801328     289.780123       13.389451          58.349668   \n",
              "std        1.204479    2379.940350       23.392198          97.189276   \n",
              "min      -90.135521      10.000000        1.000000           0.000000   \n",
              "25%      -90.072320     107.000000        1.000000           1.000000   \n",
              "50%      -87.738392     172.000000        2.000000          19.000000   \n",
              "75%      -87.655215     280.000000       30.000000          77.000000   \n",
              "max      -87.528420  238121.000000     1125.000000        2241.000000   \n",
              "\n",
              "       reviews_per_month  calculated_host_listings_count  availability_365  \\\n",
              "count       13384.000000                    16590.000000      16590.000000   \n",
              "mean            1.713416                       34.189271        192.079385   \n",
              "std             1.932129                      110.859184        131.410632   \n",
              "min             0.010000                        1.000000          0.000000   \n",
              "25%             0.490000                        1.000000         67.000000   \n",
              "50%             1.335000                        4.000000        208.000000   \n",
              "75%             2.460000                       17.000000        320.000000   \n",
              "max            80.450000                      597.000000        365.000000   \n",
              "\n",
              "       number_of_reviews_ltm  \n",
              "count           16590.000000  \n",
              "mean               13.292887  \n",
              "std                19.735068  \n",
              "min                 0.000000  \n",
              "25%                 0.000000  \n",
              "50%                 5.000000  \n",
              "75%                22.000000  \n",
              "max               642.000000  "
            ],
            "text/html": [
              "\n",
              "  <div id=\"df-c481e770-670c-4528-bb4c-898405c5f5b7\" class=\"colab-df-container\">\n",
              "    <div>\n",
              "<style scoped>\n",
              "    .dataframe tbody tr th:only-of-type {\n",
              "        vertical-align: middle;\n",
              "    }\n",
              "\n",
              "    .dataframe tbody tr th {\n",
              "        vertical-align: top;\n",
              "    }\n",
              "\n",
              "    .dataframe thead th {\n",
              "        text-align: right;\n",
              "    }\n",
              "</style>\n",
              "<table border=\"1\" class=\"dataframe\">\n",
              "  <thead>\n",
              "    <tr style=\"text-align: right;\">\n",
              "      <th></th>\n",
              "      <th>id</th>\n",
              "      <th>host_id</th>\n",
              "      <th>neighbourhood_group</th>\n",
              "      <th>latitude</th>\n",
              "      <th>longitude</th>\n",
              "      <th>price</th>\n",
              "      <th>minimum_nights</th>\n",
              "      <th>number_of_reviews</th>\n",
              "      <th>reviews_per_month</th>\n",
              "      <th>calculated_host_listings_count</th>\n",
              "      <th>availability_365</th>\n",
              "      <th>number_of_reviews_ltm</th>\n",
              "    </tr>\n",
              "  </thead>\n",
              "  <tbody>\n",
              "    <tr>\n",
              "      <th>count</th>\n",
              "      <td>1.659000e+04</td>\n",
              "      <td>1.659000e+04</td>\n",
              "      <td>0.0</td>\n",
              "      <td>16590.000000</td>\n",
              "      <td>16590.000000</td>\n",
              "      <td>14358.000000</td>\n",
              "      <td>16590.000000</td>\n",
              "      <td>16590.000000</td>\n",
              "      <td>13384.000000</td>\n",
              "      <td>16590.000000</td>\n",
              "      <td>16590.000000</td>\n",
              "      <td>16590.000000</td>\n",
              "    </tr>\n",
              "    <tr>\n",
              "      <th>mean</th>\n",
              "      <td>6.080594e+17</td>\n",
              "      <td>2.282752e+08</td>\n",
              "      <td>NaN</td>\n",
              "      <td>36.250631</td>\n",
              "      <td>-88.801328</td>\n",
              "      <td>289.780123</td>\n",
              "      <td>13.389451</td>\n",
              "      <td>58.349668</td>\n",
              "      <td>1.713416</td>\n",
              "      <td>34.189271</td>\n",
              "      <td>192.079385</td>\n",
              "      <td>13.292887</td>\n",
              "    </tr>\n",
              "    <tr>\n",
              "      <th>std</th>\n",
              "      <td>5.281997e+17</td>\n",
              "      <td>2.021071e+08</td>\n",
              "      <td>NaN</td>\n",
              "      <td>5.957724</td>\n",
              "      <td>1.204479</td>\n",
              "      <td>2379.940350</td>\n",
              "      <td>23.392198</td>\n",
              "      <td>97.189276</td>\n",
              "      <td>1.932129</td>\n",
              "      <td>110.859184</td>\n",
              "      <td>131.410632</td>\n",
              "      <td>19.735068</td>\n",
              "    </tr>\n",
              "    <tr>\n",
              "      <th>min</th>\n",
              "      <td>2.384000e+03</td>\n",
              "      <td>2.613000e+03</td>\n",
              "      <td>NaN</td>\n",
              "      <td>29.897042</td>\n",
              "      <td>-90.135521</td>\n",
              "      <td>10.000000</td>\n",
              "      <td>1.000000</td>\n",
              "      <td>0.000000</td>\n",
              "      <td>0.010000</td>\n",
              "      <td>1.000000</td>\n",
              "      <td>0.000000</td>\n",
              "      <td>0.000000</td>\n",
              "    </tr>\n",
              "    <tr>\n",
              "      <th>25%</th>\n",
              "      <td>4.013421e+07</td>\n",
              "      <td>4.598474e+07</td>\n",
              "      <td>NaN</td>\n",
              "      <td>29.960060</td>\n",
              "      <td>-90.072320</td>\n",
              "      <td>107.000000</td>\n",
              "      <td>1.000000</td>\n",
              "      <td>1.000000</td>\n",
              "      <td>0.490000</td>\n",
              "      <td>1.000000</td>\n",
              "      <td>67.000000</td>\n",
              "      <td>0.000000</td>\n",
              "    </tr>\n",
              "    <tr>\n",
              "      <th>50%</th>\n",
              "      <td>7.211123e+17</td>\n",
              "      <td>1.542455e+08</td>\n",
              "      <td>NaN</td>\n",
              "      <td>41.774399</td>\n",
              "      <td>-87.738392</td>\n",
              "      <td>172.000000</td>\n",
              "      <td>2.000000</td>\n",
              "      <td>19.000000</td>\n",
              "      <td>1.335000</td>\n",
              "      <td>4.000000</td>\n",
              "      <td>208.000000</td>\n",
              "      <td>5.000000</td>\n",
              "    </tr>\n",
              "    <tr>\n",
              "      <th>75%</th>\n",
              "      <td>1.109993e+18</td>\n",
              "      <td>4.310192e+08</td>\n",
              "      <td>NaN</td>\n",
              "      <td>41.896218</td>\n",
              "      <td>-87.655215</td>\n",
              "      <td>280.000000</td>\n",
              "      <td>30.000000</td>\n",
              "      <td>77.000000</td>\n",
              "      <td>2.460000</td>\n",
              "      <td>17.000000</td>\n",
              "      <td>320.000000</td>\n",
              "      <td>22.000000</td>\n",
              "    </tr>\n",
              "    <tr>\n",
              "      <th>max</th>\n",
              "      <td>1.374052e+18</td>\n",
              "      <td>6.824743e+08</td>\n",
              "      <td>NaN</td>\n",
              "      <td>42.022200</td>\n",
              "      <td>-87.528420</td>\n",
              "      <td>238121.000000</td>\n",
              "      <td>1125.000000</td>\n",
              "      <td>2241.000000</td>\n",
              "      <td>80.450000</td>\n",
              "      <td>597.000000</td>\n",
              "      <td>365.000000</td>\n",
              "      <td>642.000000</td>\n",
              "    </tr>\n",
              "  </tbody>\n",
              "</table>\n",
              "</div>\n",
              "    <div class=\"colab-df-buttons\">\n",
              "\n",
              "  <div class=\"colab-df-container\">\n",
              "    <button class=\"colab-df-convert\" onclick=\"convertToInteractive('df-c481e770-670c-4528-bb4c-898405c5f5b7')\"\n",
              "            title=\"Convert this dataframe to an interactive table.\"\n",
              "            style=\"display:none;\">\n",
              "\n",
              "  <svg xmlns=\"http://www.w3.org/2000/svg\" height=\"24px\" viewBox=\"0 -960 960 960\">\n",
              "    <path d=\"M120-120v-720h720v720H120Zm60-500h600v-160H180v160Zm220 220h160v-160H400v160Zm0 220h160v-160H400v160ZM180-400h160v-160H180v160Zm440 0h160v-160H620v160ZM180-180h160v-160H180v160Zm440 0h160v-160H620v160Z\"/>\n",
              "  </svg>\n",
              "    </button>\n",
              "\n",
              "  <style>\n",
              "    .colab-df-container {\n",
              "      display:flex;\n",
              "      gap: 12px;\n",
              "    }\n",
              "\n",
              "    .colab-df-convert {\n",
              "      background-color: #E8F0FE;\n",
              "      border: none;\n",
              "      border-radius: 50%;\n",
              "      cursor: pointer;\n",
              "      display: none;\n",
              "      fill: #1967D2;\n",
              "      height: 32px;\n",
              "      padding: 0 0 0 0;\n",
              "      width: 32px;\n",
              "    }\n",
              "\n",
              "    .colab-df-convert:hover {\n",
              "      background-color: #E2EBFA;\n",
              "      box-shadow: 0px 1px 2px rgba(60, 64, 67, 0.3), 0px 1px 3px 1px rgba(60, 64, 67, 0.15);\n",
              "      fill: #174EA6;\n",
              "    }\n",
              "\n",
              "    .colab-df-buttons div {\n",
              "      margin-bottom: 4px;\n",
              "    }\n",
              "\n",
              "    [theme=dark] .colab-df-convert {\n",
              "      background-color: #3B4455;\n",
              "      fill: #D2E3FC;\n",
              "    }\n",
              "\n",
              "    [theme=dark] .colab-df-convert:hover {\n",
              "      background-color: #434B5C;\n",
              "      box-shadow: 0px 1px 3px 1px rgba(0, 0, 0, 0.15);\n",
              "      filter: drop-shadow(0px 1px 2px rgba(0, 0, 0, 0.3));\n",
              "      fill: #FFFFFF;\n",
              "    }\n",
              "  </style>\n",
              "\n",
              "    <script>\n",
              "      const buttonEl =\n",
              "        document.querySelector('#df-c481e770-670c-4528-bb4c-898405c5f5b7 button.colab-df-convert');\n",
              "      buttonEl.style.display =\n",
              "        google.colab.kernel.accessAllowed ? 'block' : 'none';\n",
              "\n",
              "      async function convertToInteractive(key) {\n",
              "        const element = document.querySelector('#df-c481e770-670c-4528-bb4c-898405c5f5b7');\n",
              "        const dataTable =\n",
              "          await google.colab.kernel.invokeFunction('convertToInteractive',\n",
              "                                                    [key], {});\n",
              "        if (!dataTable) return;\n",
              "\n",
              "        const docLinkHtml = 'Like what you see? Visit the ' +\n",
              "          '<a target=\"_blank\" href=https://colab.research.google.com/notebooks/data_table.ipynb>data table notebook</a>'\n",
              "          + ' to learn more about interactive tables.';\n",
              "        element.innerHTML = '';\n",
              "        dataTable['output_type'] = 'display_data';\n",
              "        await google.colab.output.renderOutput(dataTable, element);\n",
              "        const docLink = document.createElement('div');\n",
              "        docLink.innerHTML = docLinkHtml;\n",
              "        element.appendChild(docLink);\n",
              "      }\n",
              "    </script>\n",
              "  </div>\n",
              "\n",
              "\n",
              "<div id=\"df-98b27b20-a204-4390-90f8-3cc08a5aab30\">\n",
              "  <button class=\"colab-df-quickchart\" onclick=\"quickchart('df-98b27b20-a204-4390-90f8-3cc08a5aab30')\"\n",
              "            title=\"Suggest charts\"\n",
              "            style=\"display:none;\">\n",
              "\n",
              "<svg xmlns=\"http://www.w3.org/2000/svg\" height=\"24px\"viewBox=\"0 0 24 24\"\n",
              "     width=\"24px\">\n",
              "    <g>\n",
              "        <path d=\"M19 3H5c-1.1 0-2 .9-2 2v14c0 1.1.9 2 2 2h14c1.1 0 2-.9 2-2V5c0-1.1-.9-2-2-2zM9 17H7v-7h2v7zm4 0h-2V7h2v10zm4 0h-2v-4h2v4z\"/>\n",
              "    </g>\n",
              "</svg>\n",
              "  </button>\n",
              "\n",
              "<style>\n",
              "  .colab-df-quickchart {\n",
              "      --bg-color: #E8F0FE;\n",
              "      --fill-color: #1967D2;\n",
              "      --hover-bg-color: #E2EBFA;\n",
              "      --hover-fill-color: #174EA6;\n",
              "      --disabled-fill-color: #AAA;\n",
              "      --disabled-bg-color: #DDD;\n",
              "  }\n",
              "\n",
              "  [theme=dark] .colab-df-quickchart {\n",
              "      --bg-color: #3B4455;\n",
              "      --fill-color: #D2E3FC;\n",
              "      --hover-bg-color: #434B5C;\n",
              "      --hover-fill-color: #FFFFFF;\n",
              "      --disabled-bg-color: #3B4455;\n",
              "      --disabled-fill-color: #666;\n",
              "  }\n",
              "\n",
              "  .colab-df-quickchart {\n",
              "    background-color: var(--bg-color);\n",
              "    border: none;\n",
              "    border-radius: 50%;\n",
              "    cursor: pointer;\n",
              "    display: none;\n",
              "    fill: var(--fill-color);\n",
              "    height: 32px;\n",
              "    padding: 0;\n",
              "    width: 32px;\n",
              "  }\n",
              "\n",
              "  .colab-df-quickchart:hover {\n",
              "    background-color: var(--hover-bg-color);\n",
              "    box-shadow: 0 1px 2px rgba(60, 64, 67, 0.3), 0 1px 3px 1px rgba(60, 64, 67, 0.15);\n",
              "    fill: var(--button-hover-fill-color);\n",
              "  }\n",
              "\n",
              "  .colab-df-quickchart-complete:disabled,\n",
              "  .colab-df-quickchart-complete:disabled:hover {\n",
              "    background-color: var(--disabled-bg-color);\n",
              "    fill: var(--disabled-fill-color);\n",
              "    box-shadow: none;\n",
              "  }\n",
              "\n",
              "  .colab-df-spinner {\n",
              "    border: 2px solid var(--fill-color);\n",
              "    border-color: transparent;\n",
              "    border-bottom-color: var(--fill-color);\n",
              "    animation:\n",
              "      spin 1s steps(1) infinite;\n",
              "  }\n",
              "\n",
              "  @keyframes spin {\n",
              "    0% {\n",
              "      border-color: transparent;\n",
              "      border-bottom-color: var(--fill-color);\n",
              "      border-left-color: var(--fill-color);\n",
              "    }\n",
              "    20% {\n",
              "      border-color: transparent;\n",
              "      border-left-color: var(--fill-color);\n",
              "      border-top-color: var(--fill-color);\n",
              "    }\n",
              "    30% {\n",
              "      border-color: transparent;\n",
              "      border-left-color: var(--fill-color);\n",
              "      border-top-color: var(--fill-color);\n",
              "      border-right-color: var(--fill-color);\n",
              "    }\n",
              "    40% {\n",
              "      border-color: transparent;\n",
              "      border-right-color: var(--fill-color);\n",
              "      border-top-color: var(--fill-color);\n",
              "    }\n",
              "    60% {\n",
              "      border-color: transparent;\n",
              "      border-right-color: var(--fill-color);\n",
              "    }\n",
              "    80% {\n",
              "      border-color: transparent;\n",
              "      border-right-color: var(--fill-color);\n",
              "      border-bottom-color: var(--fill-color);\n",
              "    }\n",
              "    90% {\n",
              "      border-color: transparent;\n",
              "      border-bottom-color: var(--fill-color);\n",
              "    }\n",
              "  }\n",
              "</style>\n",
              "\n",
              "  <script>\n",
              "    async function quickchart(key) {\n",
              "      const quickchartButtonEl =\n",
              "        document.querySelector('#' + key + ' button');\n",
              "      quickchartButtonEl.disabled = true;  // To prevent multiple clicks.\n",
              "      quickchartButtonEl.classList.add('colab-df-spinner');\n",
              "      try {\n",
              "        const charts = await google.colab.kernel.invokeFunction(\n",
              "            'suggestCharts', [key], {});\n",
              "      } catch (error) {\n",
              "        console.error('Error during call to suggestCharts:', error);\n",
              "      }\n",
              "      quickchartButtonEl.classList.remove('colab-df-spinner');\n",
              "      quickchartButtonEl.classList.add('colab-df-quickchart-complete');\n",
              "    }\n",
              "    (() => {\n",
              "      let quickchartButtonEl =\n",
              "        document.querySelector('#df-98b27b20-a204-4390-90f8-3cc08a5aab30 button');\n",
              "      quickchartButtonEl.style.display =\n",
              "        google.colab.kernel.accessAllowed ? 'block' : 'none';\n",
              "    })();\n",
              "  </script>\n",
              "</div>\n",
              "\n",
              "    </div>\n",
              "  </div>\n"
            ],
            "application/vnd.google.colaboratory.intrinsic+json": {
              "type": "dataframe",
              "summary": "{\n  \"name\": \"df\",\n  \"rows\": 8,\n  \"fields\": [\n    {\n      \"column\": \"id\",\n      \"properties\": {\n        \"dtype\": \"number\",\n        \"std\": 5.254727569782782e+17,\n        \"min\": 2384.0,\n        \"max\": 1.3740522015570383e+18,\n        \"num_unique_values\": 8,\n        \"samples\": [\n          6.080594338130924e+17,\n          7.211123113557937e+17,\n          16590.0\n        ],\n        \"semantic_type\": \"\",\n        \"description\": \"\"\n      }\n    },\n    {\n      \"column\": \"host_id\",\n      \"properties\": {\n        \"dtype\": \"number\",\n        \"std\": 236088720.82021725,\n        \"min\": 2613.0,\n        \"max\": 682474274.0,\n        \"num_unique_values\": 8,\n        \"samples\": [\n          228275233.04683545,\n          154245517.0,\n          16590.0\n        ],\n        \"semantic_type\": \"\",\n        \"description\": \"\"\n      }\n    },\n    {\n      \"column\": \"neighbourhood_group\",\n      \"properties\": {\n        \"dtype\": \"number\",\n        \"std\": null,\n        \"min\": 0.0,\n        \"max\": 0.0,\n        \"num_unique_values\": 1,\n        \"samples\": [\n          0.0\n        ],\n        \"semantic_type\": \"\",\n        \"description\": \"\"\n      }\n    },\n    {\n      \"column\": \"latitude\",\n      \"properties\": {\n        \"dtype\": \"number\",\n        \"std\": 5853.959382057482,\n        \"min\": 5.957723676405035,\n        \"max\": 16590.0,\n        \"num_unique_values\": 8,\n        \"samples\": [\n          36.25063105543589\n        ],\n        \"semantic_type\": \"\",\n        \"description\": \"\"\n      }\n    },\n    {\n      \"column\": \"longitude\",\n      \"properties\": {\n        \"dtype\": \"number\",\n        \"std\": 5892.340487580437,\n        \"min\": -90.13552074182395,\n        \"max\": 16590.0,\n        \"num_unique_values\": 8,\n        \"samples\": [\n          -88.8013278790343\n        ],\n        \"semantic_type\": \"\",\n        \"description\": \"\"\n      }\n    },\n    {\n      \"column\": \"price\",\n      \"properties\": {\n        \"dtype\": \"number\",\n        \"std\": 83443.46790848172,\n        \"min\": 10.0,\n        \"max\": 238121.0,\n        \"num_unique_values\": 8,\n        \"samples\": [\n          289.7801225797465\n        ],\n        \"semantic_type\": \"\",\n        \"description\": \"\"\n      }\n    },\n    {\n      \"column\": \"minimum_nights\",\n      \"properties\": {\n        \"dtype\": \"number\",\n        \"std\": 5818.119527591391,\n        \"min\": 1.0,\n        \"max\": 16590.0,\n        \"num_unique_values\": 7,\n        \"samples\": [\n          16590.0\n        ],\n        \"semantic_type\": \"\",\n        \"description\": \"\"\n      }\n    },\n    {\n      \"column\": \"number_of_reviews\",\n      \"properties\": {\n        \"dtype\": \"number\",\n        \"std\": 5790.961431495196,\n        \"min\": 0.0,\n        \"max\": 16590.0,\n        \"num_unique_values\": 8,\n        \"samples\": [\n          58.34966847498493\n        ],\n        \"semantic_type\": \"\",\n        \"description\": \"\"\n      }\n    },\n    {\n      \"column\": \"reviews_per_month\",\n      \"properties\": {\n        \"dtype\": \"number\",\n        \"std\": 4727.57533099517,\n        \"min\": 0.01,\n        \"max\": 13384.0,\n        \"num_unique_values\": 8,\n        \"samples\": [\n          1.7134160191273162\n        ],\n        \"semantic_type\": \"\",\n        \"description\": \"\"\n      }\n    },\n    {\n      \"column\": \"calculated_host_listings_count\",\n      \"properties\": {\n        \"dtype\": \"number\",\n        \"std\": 5830.321742018127,\n        \"min\": 1.0,\n        \"max\": 16590.0,\n        \"num_unique_values\": 7,\n        \"samples\": [\n          16590.0\n        ],\n        \"semantic_type\": \"\",\n        \"description\": \"\"\n      }\n    },\n    {\n      \"column\": \"availability_365\",\n      \"properties\": {\n        \"dtype\": \"number\",\n        \"std\": 5801.88313728704,\n        \"min\": 0.0,\n        \"max\": 16590.0,\n        \"num_unique_values\": 8,\n        \"samples\": [\n          192.07938517179022\n        ],\n        \"semantic_type\": \"\",\n        \"description\": \"\"\n      }\n    },\n    {\n      \"column\": \"number_of_reviews_ltm\",\n      \"properties\": {\n        \"dtype\": \"number\",\n        \"std\": 5834.191831956321,\n        \"min\": 0.0,\n        \"max\": 16590.0,\n        \"num_unique_values\": 7,\n        \"samples\": [\n          16590.0\n        ],\n        \"semantic_type\": \"\",\n        \"description\": \"\"\n      }\n    }\n  ]\n}"
            }
          },
          "metadata": {},
          "execution_count": 13
        }
      ]
    },
    {
      "cell_type": "code",
      "source": [
        "# Check Unique Values for each variable.\n",
        "print('\\n Number of Unique Values in each column :\\n')\n",
        "print(df.nunique())"
      ],
      "metadata": {
        "colab": {
          "base_uri": "https://localhost:8080/"
        },
        "id": "b9odtGeisFTm",
        "outputId": "9e5c9424-e6e4-4092-8f1b-0e9caf6bba85"
      },
      "execution_count": null,
      "outputs": [
        {
          "output_type": "stream",
          "name": "stdout",
          "text": [
            "\n",
            " Number of Unique Values in each column :\n",
            "\n",
            "id                                16590\n",
            "name                              15820\n",
            "host_id                            7367\n",
            "host_name                          3444\n",
            "neighbourhood_group                   0\n",
            "neighbourhood                       144\n",
            "latitude                          12463\n",
            "longitude                         12532\n",
            "room_type                             4\n",
            "price                              1126\n",
            "minimum_nights                       59\n",
            "number_of_reviews                   550\n",
            "last_review                        1289\n",
            "reviews_per_month                   739\n",
            "calculated_host_listings_count       58\n",
            "availability_365                    366\n",
            "number_of_reviews_ltm               141\n",
            "license                            8749\n",
            "City                                  2\n",
            "dtype: int64\n"
          ]
        }
      ]
    },
    {
      "cell_type": "code",
      "source": [
        "# Removing Unnecessary Columns\n",
        "df.drop(columns = ['neighbourhood_group'], inplace = True)"
      ],
      "metadata": {
        "id": "gnDPyFBStUhO"
      },
      "execution_count": null,
      "outputs": []
    },
    {
      "cell_type": "code",
      "source": [
        "print('Null Values in Dataset\\n')\n",
        "print(df.isnull().sum())"
      ],
      "metadata": {
        "colab": {
          "base_uri": "https://localhost:8080/"
        },
        "id": "qQOo5gM1tfhP",
        "outputId": "ed5501e9-a906-4cf6-bbcc-096c53ed7b34"
      },
      "execution_count": null,
      "outputs": [
        {
          "output_type": "stream",
          "name": "stdout",
          "text": [
            "Null Values in Dataset\n",
            "\n",
            "id                                   0\n",
            "name                                 0\n",
            "host_id                              0\n",
            "host_name                           13\n",
            "neighbourhood                        0\n",
            "latitude                             0\n",
            "longitude                            0\n",
            "room_type                            0\n",
            "price                             2232\n",
            "minimum_nights                       0\n",
            "number_of_reviews                    0\n",
            "last_review                       3206\n",
            "reviews_per_month                 3206\n",
            "calculated_host_listings_count       0\n",
            "availability_365                     0\n",
            "number_of_reviews_ltm                0\n",
            "license                           3252\n",
            "City                                 0\n",
            "dtype: int64\n"
          ]
        }
      ]
    },
    {
      "cell_type": "code",
      "source": [
        "# Handling Null Values\n",
        "# 1. Host_Name Column\n",
        "df['host_name'].fillna('Unknown Host', inplace=True)"
      ],
      "metadata": {
        "id": "sK94gJ5TvFkW"
      },
      "execution_count": null,
      "outputs": []
    },
    {
      "cell_type": "code",
      "source": [
        "# 2. Price Column\n",
        "median_price = df['price'].median()\n",
        "df['price'].fillna(median_price, inplace=True)"
      ],
      "metadata": {
        "id": "Az9Yee3PvUg8"
      },
      "execution_count": null,
      "outputs": []
    },
    {
      "cell_type": "code",
      "source": [
        "# 3. License Column\n",
        "df.drop(columns = ['license'], inplace = True)"
      ],
      "metadata": {
        "id": "rxZbIGVdvjox"
      },
      "execution_count": null,
      "outputs": []
    },
    {
      "cell_type": "code",
      "source": [
        "# 4. Last Review Column\n",
        "df['last_review'].fillna('No Reviews', inplace=True)"
      ],
      "metadata": {
        "id": "KT13yKP4wMfD"
      },
      "execution_count": null,
      "outputs": []
    },
    {
      "cell_type": "code",
      "source": [
        "# 5. Reviews Per Month Column\n",
        "df['reviews_per_month'].fillna(0, inplace=True)"
      ],
      "metadata": {
        "id": "WhJpkx-zw2Tx"
      },
      "execution_count": null,
      "outputs": []
    },
    {
      "cell_type": "code",
      "source": [
        "# Removing WhiteSpace and Capitalizing First Letter\n",
        "# 1. Name Column\n",
        "df['name'] = df['name'].str.strip().str.title()"
      ],
      "metadata": {
        "id": "4j-FHEn_xN41"
      },
      "execution_count": null,
      "outputs": []
    },
    {
      "cell_type": "code",
      "source": [
        "# 2. Host Name Column\n",
        "df['host_name'] = df['host_name'].str.strip().str.title()"
      ],
      "metadata": {
        "id": "Ft3TIyQ6ylH2"
      },
      "execution_count": null,
      "outputs": []
    },
    {
      "cell_type": "code",
      "source": [
        "# 3. Minimum Nights Column\n",
        "# Cap minimum nights at 365\n",
        "df['minimum_nights'] = df['minimum_nights'].clip(upper=365)"
      ],
      "metadata": {
        "id": "6xMD2D2Fyq3i"
      },
      "execution_count": null,
      "outputs": []
    },
    {
      "cell_type": "code",
      "source": [
        "# 4. Neighbourhood Name\n",
        "# Standardize neighbourhood names\n",
        "df['neighbourhood'] = df['neighbourhood'].str.strip().str.title()"
      ],
      "metadata": {
        "id": "_Fkl8YZ-Hy7R"
      },
      "execution_count": null,
      "outputs": []
    },
    {
      "cell_type": "code",
      "source": [
        "# View Cleaned Dataset\n",
        "df.head(2)"
      ],
      "metadata": {
        "colab": {
          "base_uri": "https://localhost:8080/",
          "height": 288
        },
        "id": "iNZc3jLSIdbn",
        "outputId": "c3f7c1f6-53c1-49b2-879c-2194bc7188e2"
      },
      "execution_count": null,
      "outputs": [
        {
          "output_type": "execute_result",
          "data": {
            "text/plain": [
              "     id                                       name  host_id host_name  \\\n",
              "0  2384  Hyde Park - Walk To University Of Chicago     2613   Rebecca   \n",
              "1  7126        Tiny Studio Apartment 94 Walk Score    17928     Sarah   \n",
              "\n",
              "  neighbourhood  latitude  longitude        room_type  price  minimum_nights  \\\n",
              "0     Hyde Park  41.78790  -87.58780     Private room  125.0               3   \n",
              "1     West Town  41.90166  -87.68021  Entire home/apt   81.0               2   \n",
              "\n",
              "   number_of_reviews last_review  reviews_per_month  \\\n",
              "0                250  2024-10-14               2.02   \n",
              "1                569  2025-02-09               2.98   \n",
              "\n",
              "   calculated_host_listings_count  availability_365  number_of_reviews_ltm  \\\n",
              "0                               1               343                     16   \n",
              "1                               1               275                     53   \n",
              "\n",
              "      City  \n",
              "0  Chicago  \n",
              "1  Chicago  "
            ],
            "text/html": [
              "\n",
              "  <div id=\"df-ae3e7e10-21d2-4b5f-b7fa-f8430245d0b2\" class=\"colab-df-container\">\n",
              "    <div>\n",
              "<style scoped>\n",
              "    .dataframe tbody tr th:only-of-type {\n",
              "        vertical-align: middle;\n",
              "    }\n",
              "\n",
              "    .dataframe tbody tr th {\n",
              "        vertical-align: top;\n",
              "    }\n",
              "\n",
              "    .dataframe thead th {\n",
              "        text-align: right;\n",
              "    }\n",
              "</style>\n",
              "<table border=\"1\" class=\"dataframe\">\n",
              "  <thead>\n",
              "    <tr style=\"text-align: right;\">\n",
              "      <th></th>\n",
              "      <th>id</th>\n",
              "      <th>name</th>\n",
              "      <th>host_id</th>\n",
              "      <th>host_name</th>\n",
              "      <th>neighbourhood</th>\n",
              "      <th>latitude</th>\n",
              "      <th>longitude</th>\n",
              "      <th>room_type</th>\n",
              "      <th>price</th>\n",
              "      <th>minimum_nights</th>\n",
              "      <th>number_of_reviews</th>\n",
              "      <th>last_review</th>\n",
              "      <th>reviews_per_month</th>\n",
              "      <th>calculated_host_listings_count</th>\n",
              "      <th>availability_365</th>\n",
              "      <th>number_of_reviews_ltm</th>\n",
              "      <th>City</th>\n",
              "    </tr>\n",
              "  </thead>\n",
              "  <tbody>\n",
              "    <tr>\n",
              "      <th>0</th>\n",
              "      <td>2384</td>\n",
              "      <td>Hyde Park - Walk To University Of Chicago</td>\n",
              "      <td>2613</td>\n",
              "      <td>Rebecca</td>\n",
              "      <td>Hyde Park</td>\n",
              "      <td>41.78790</td>\n",
              "      <td>-87.58780</td>\n",
              "      <td>Private room</td>\n",
              "      <td>125.0</td>\n",
              "      <td>3</td>\n",
              "      <td>250</td>\n",
              "      <td>2024-10-14</td>\n",
              "      <td>2.02</td>\n",
              "      <td>1</td>\n",
              "      <td>343</td>\n",
              "      <td>16</td>\n",
              "      <td>Chicago</td>\n",
              "    </tr>\n",
              "    <tr>\n",
              "      <th>1</th>\n",
              "      <td>7126</td>\n",
              "      <td>Tiny Studio Apartment 94 Walk Score</td>\n",
              "      <td>17928</td>\n",
              "      <td>Sarah</td>\n",
              "      <td>West Town</td>\n",
              "      <td>41.90166</td>\n",
              "      <td>-87.68021</td>\n",
              "      <td>Entire home/apt</td>\n",
              "      <td>81.0</td>\n",
              "      <td>2</td>\n",
              "      <td>569</td>\n",
              "      <td>2025-02-09</td>\n",
              "      <td>2.98</td>\n",
              "      <td>1</td>\n",
              "      <td>275</td>\n",
              "      <td>53</td>\n",
              "      <td>Chicago</td>\n",
              "    </tr>\n",
              "  </tbody>\n",
              "</table>\n",
              "</div>\n",
              "    <div class=\"colab-df-buttons\">\n",
              "\n",
              "  <div class=\"colab-df-container\">\n",
              "    <button class=\"colab-df-convert\" onclick=\"convertToInteractive('df-ae3e7e10-21d2-4b5f-b7fa-f8430245d0b2')\"\n",
              "            title=\"Convert this dataframe to an interactive table.\"\n",
              "            style=\"display:none;\">\n",
              "\n",
              "  <svg xmlns=\"http://www.w3.org/2000/svg\" height=\"24px\" viewBox=\"0 -960 960 960\">\n",
              "    <path d=\"M120-120v-720h720v720H120Zm60-500h600v-160H180v160Zm220 220h160v-160H400v160Zm0 220h160v-160H400v160ZM180-400h160v-160H180v160Zm440 0h160v-160H620v160ZM180-180h160v-160H180v160Zm440 0h160v-160H620v160Z\"/>\n",
              "  </svg>\n",
              "    </button>\n",
              "\n",
              "  <style>\n",
              "    .colab-df-container {\n",
              "      display:flex;\n",
              "      gap: 12px;\n",
              "    }\n",
              "\n",
              "    .colab-df-convert {\n",
              "      background-color: #E8F0FE;\n",
              "      border: none;\n",
              "      border-radius: 50%;\n",
              "      cursor: pointer;\n",
              "      display: none;\n",
              "      fill: #1967D2;\n",
              "      height: 32px;\n",
              "      padding: 0 0 0 0;\n",
              "      width: 32px;\n",
              "    }\n",
              "\n",
              "    .colab-df-convert:hover {\n",
              "      background-color: #E2EBFA;\n",
              "      box-shadow: 0px 1px 2px rgba(60, 64, 67, 0.3), 0px 1px 3px 1px rgba(60, 64, 67, 0.15);\n",
              "      fill: #174EA6;\n",
              "    }\n",
              "\n",
              "    .colab-df-buttons div {\n",
              "      margin-bottom: 4px;\n",
              "    }\n",
              "\n",
              "    [theme=dark] .colab-df-convert {\n",
              "      background-color: #3B4455;\n",
              "      fill: #D2E3FC;\n",
              "    }\n",
              "\n",
              "    [theme=dark] .colab-df-convert:hover {\n",
              "      background-color: #434B5C;\n",
              "      box-shadow: 0px 1px 3px 1px rgba(0, 0, 0, 0.15);\n",
              "      filter: drop-shadow(0px 1px 2px rgba(0, 0, 0, 0.3));\n",
              "      fill: #FFFFFF;\n",
              "    }\n",
              "  </style>\n",
              "\n",
              "    <script>\n",
              "      const buttonEl =\n",
              "        document.querySelector('#df-ae3e7e10-21d2-4b5f-b7fa-f8430245d0b2 button.colab-df-convert');\n",
              "      buttonEl.style.display =\n",
              "        google.colab.kernel.accessAllowed ? 'block' : 'none';\n",
              "\n",
              "      async function convertToInteractive(key) {\n",
              "        const element = document.querySelector('#df-ae3e7e10-21d2-4b5f-b7fa-f8430245d0b2');\n",
              "        const dataTable =\n",
              "          await google.colab.kernel.invokeFunction('convertToInteractive',\n",
              "                                                    [key], {});\n",
              "        if (!dataTable) return;\n",
              "\n",
              "        const docLinkHtml = 'Like what you see? Visit the ' +\n",
              "          '<a target=\"_blank\" href=https://colab.research.google.com/notebooks/data_table.ipynb>data table notebook</a>'\n",
              "          + ' to learn more about interactive tables.';\n",
              "        element.innerHTML = '';\n",
              "        dataTable['output_type'] = 'display_data';\n",
              "        await google.colab.output.renderOutput(dataTable, element);\n",
              "        const docLink = document.createElement('div');\n",
              "        docLink.innerHTML = docLinkHtml;\n",
              "        element.appendChild(docLink);\n",
              "      }\n",
              "    </script>\n",
              "  </div>\n",
              "\n",
              "\n",
              "<div id=\"df-1372e19a-3a5f-47ba-adfc-5f303e7f0ae5\">\n",
              "  <button class=\"colab-df-quickchart\" onclick=\"quickchart('df-1372e19a-3a5f-47ba-adfc-5f303e7f0ae5')\"\n",
              "            title=\"Suggest charts\"\n",
              "            style=\"display:none;\">\n",
              "\n",
              "<svg xmlns=\"http://www.w3.org/2000/svg\" height=\"24px\"viewBox=\"0 0 24 24\"\n",
              "     width=\"24px\">\n",
              "    <g>\n",
              "        <path d=\"M19 3H5c-1.1 0-2 .9-2 2v14c0 1.1.9 2 2 2h14c1.1 0 2-.9 2-2V5c0-1.1-.9-2-2-2zM9 17H7v-7h2v7zm4 0h-2V7h2v10zm4 0h-2v-4h2v4z\"/>\n",
              "    </g>\n",
              "</svg>\n",
              "  </button>\n",
              "\n",
              "<style>\n",
              "  .colab-df-quickchart {\n",
              "      --bg-color: #E8F0FE;\n",
              "      --fill-color: #1967D2;\n",
              "      --hover-bg-color: #E2EBFA;\n",
              "      --hover-fill-color: #174EA6;\n",
              "      --disabled-fill-color: #AAA;\n",
              "      --disabled-bg-color: #DDD;\n",
              "  }\n",
              "\n",
              "  [theme=dark] .colab-df-quickchart {\n",
              "      --bg-color: #3B4455;\n",
              "      --fill-color: #D2E3FC;\n",
              "      --hover-bg-color: #434B5C;\n",
              "      --hover-fill-color: #FFFFFF;\n",
              "      --disabled-bg-color: #3B4455;\n",
              "      --disabled-fill-color: #666;\n",
              "  }\n",
              "\n",
              "  .colab-df-quickchart {\n",
              "    background-color: var(--bg-color);\n",
              "    border: none;\n",
              "    border-radius: 50%;\n",
              "    cursor: pointer;\n",
              "    display: none;\n",
              "    fill: var(--fill-color);\n",
              "    height: 32px;\n",
              "    padding: 0;\n",
              "    width: 32px;\n",
              "  }\n",
              "\n",
              "  .colab-df-quickchart:hover {\n",
              "    background-color: var(--hover-bg-color);\n",
              "    box-shadow: 0 1px 2px rgba(60, 64, 67, 0.3), 0 1px 3px 1px rgba(60, 64, 67, 0.15);\n",
              "    fill: var(--button-hover-fill-color);\n",
              "  }\n",
              "\n",
              "  .colab-df-quickchart-complete:disabled,\n",
              "  .colab-df-quickchart-complete:disabled:hover {\n",
              "    background-color: var(--disabled-bg-color);\n",
              "    fill: var(--disabled-fill-color);\n",
              "    box-shadow: none;\n",
              "  }\n",
              "\n",
              "  .colab-df-spinner {\n",
              "    border: 2px solid var(--fill-color);\n",
              "    border-color: transparent;\n",
              "    border-bottom-color: var(--fill-color);\n",
              "    animation:\n",
              "      spin 1s steps(1) infinite;\n",
              "  }\n",
              "\n",
              "  @keyframes spin {\n",
              "    0% {\n",
              "      border-color: transparent;\n",
              "      border-bottom-color: var(--fill-color);\n",
              "      border-left-color: var(--fill-color);\n",
              "    }\n",
              "    20% {\n",
              "      border-color: transparent;\n",
              "      border-left-color: var(--fill-color);\n",
              "      border-top-color: var(--fill-color);\n",
              "    }\n",
              "    30% {\n",
              "      border-color: transparent;\n",
              "      border-left-color: var(--fill-color);\n",
              "      border-top-color: var(--fill-color);\n",
              "      border-right-color: var(--fill-color);\n",
              "    }\n",
              "    40% {\n",
              "      border-color: transparent;\n",
              "      border-right-color: var(--fill-color);\n",
              "      border-top-color: var(--fill-color);\n",
              "    }\n",
              "    60% {\n",
              "      border-color: transparent;\n",
              "      border-right-color: var(--fill-color);\n",
              "    }\n",
              "    80% {\n",
              "      border-color: transparent;\n",
              "      border-right-color: var(--fill-color);\n",
              "      border-bottom-color: var(--fill-color);\n",
              "    }\n",
              "    90% {\n",
              "      border-color: transparent;\n",
              "      border-bottom-color: var(--fill-color);\n",
              "    }\n",
              "  }\n",
              "</style>\n",
              "\n",
              "  <script>\n",
              "    async function quickchart(key) {\n",
              "      const quickchartButtonEl =\n",
              "        document.querySelector('#' + key + ' button');\n",
              "      quickchartButtonEl.disabled = true;  // To prevent multiple clicks.\n",
              "      quickchartButtonEl.classList.add('colab-df-spinner');\n",
              "      try {\n",
              "        const charts = await google.colab.kernel.invokeFunction(\n",
              "            'suggestCharts', [key], {});\n",
              "      } catch (error) {\n",
              "        console.error('Error during call to suggestCharts:', error);\n",
              "      }\n",
              "      quickchartButtonEl.classList.remove('colab-df-spinner');\n",
              "      quickchartButtonEl.classList.add('colab-df-quickchart-complete');\n",
              "    }\n",
              "    (() => {\n",
              "      let quickchartButtonEl =\n",
              "        document.querySelector('#df-1372e19a-3a5f-47ba-adfc-5f303e7f0ae5 button');\n",
              "      quickchartButtonEl.style.display =\n",
              "        google.colab.kernel.accessAllowed ? 'block' : 'none';\n",
              "    })();\n",
              "  </script>\n",
              "</div>\n",
              "\n",
              "    </div>\n",
              "  </div>\n"
            ],
            "application/vnd.google.colaboratory.intrinsic+json": {
              "type": "dataframe",
              "variable_name": "df",
              "summary": "{\n  \"name\": \"df\",\n  \"rows\": 16590,\n  \"fields\": [\n    {\n      \"column\": \"id\",\n      \"properties\": {\n        \"dtype\": \"number\",\n        \"std\": 528199652859599744,\n        \"min\": 2384,\n        \"max\": 1374052201557038323,\n        \"num_unique_values\": 16590,\n        \"samples\": [\n          1265550224850680694,\n          10014344,\n          750523945355986503\n        ],\n        \"semantic_type\": \"\",\n        \"description\": \"\"\n      }\n    },\n    {\n      \"column\": \"name\",\n      \"properties\": {\n        \"dtype\": \"string\",\n        \"num_unique_values\": 15799,\n        \"samples\": [\n          \"Perfect Wicker Park Stay\",\n          \"Quiet & Private Bedroom Near It All\",\n          \"New Construction Apt W/ Free Parking, Washer/Dryer\"\n        ],\n        \"semantic_type\": \"\",\n        \"description\": \"\"\n      }\n    },\n    {\n      \"column\": \"host_id\",\n      \"properties\": {\n        \"dtype\": \"number\",\n        \"std\": 202107105,\n        \"min\": 2613,\n        \"max\": 682474274,\n        \"num_unique_values\": 7367,\n        \"samples\": [\n          390907476,\n          324074779,\n          249058545\n        ],\n        \"semantic_type\": \"\",\n        \"description\": \"\"\n      }\n    },\n    {\n      \"column\": \"host_name\",\n      \"properties\": {\n        \"dtype\": \"category\",\n        \"num_unique_values\": 3439,\n        \"samples\": [\n          \"Omoyele\",\n          \"Lashanda Harrison\",\n          \"Max\"\n        ],\n        \"semantic_type\": \"\",\n        \"description\": \"\"\n      }\n    },\n    {\n      \"column\": \"neighbourhood\",\n      \"properties\": {\n        \"dtype\": \"category\",\n        \"num_unique_values\": 144,\n        \"samples\": [\n          \"Gentilly Woods\",\n          \"Uptown\",\n          \"Central City\"\n        ],\n        \"semantic_type\": \"\",\n        \"description\": \"\"\n      }\n    },\n    {\n      \"column\": \"latitude\",\n      \"properties\": {\n        \"dtype\": \"number\",\n        \"std\": 5.957723676405035,\n        \"min\": 29.897042004333727,\n        \"max\": 42.0222,\n        \"num_unique_values\": 12463,\n        \"samples\": [\n          29.96264861292919,\n          29.93471,\n          41.82348\n        ],\n        \"semantic_type\": \"\",\n        \"description\": \"\"\n      }\n    },\n    {\n      \"column\": \"longitude\",\n      \"properties\": {\n        \"dtype\": \"number\",\n        \"std\": 1.2044794483941796,\n        \"min\": -90.13552074182395,\n        \"max\": -87.52842,\n        \"num_unique_values\": 12532,\n        \"samples\": [\n          -90.09578570396232,\n          -87.658006,\n          -90.09466\n        ],\n        \"semantic_type\": \"\",\n        \"description\": \"\"\n      }\n    },\n    {\n      \"column\": \"room_type\",\n      \"properties\": {\n        \"dtype\": \"category\",\n        \"num_unique_values\": 4,\n        \"samples\": [\n          \"Entire home/apt\",\n          \"Hotel room\",\n          \"Private room\"\n        ],\n        \"semantic_type\": \"\",\n        \"description\": \"\"\n      }\n    },\n    {\n      \"column\": \"price\",\n      \"properties\": {\n        \"dtype\": \"number\",\n        \"std\": 2214.416774492493,\n        \"min\": 10.0,\n        \"max\": 238121.0,\n        \"num_unique_values\": 1126,\n        \"samples\": [\n          2053.0,\n          1710.0,\n          677.0\n        ],\n        \"semantic_type\": \"\",\n        \"description\": \"\"\n      }\n    },\n    {\n      \"column\": \"minimum_nights\",\n      \"properties\": {\n        \"dtype\": \"number\",\n        \"std\": 21,\n        \"min\": 1,\n        \"max\": 365,\n        \"num_unique_values\": 58,\n        \"samples\": [\n          3,\n          21,\n          22\n        ],\n        \"semantic_type\": \"\",\n        \"description\": \"\"\n      }\n    },\n    {\n      \"column\": \"number_of_reviews\",\n      \"properties\": {\n        \"dtype\": \"number\",\n        \"std\": 97,\n        \"min\": 0,\n        \"max\": 2241,\n        \"num_unique_values\": 550,\n        \"samples\": [\n          14,\n          186,\n          496\n        ],\n        \"semantic_type\": \"\",\n        \"description\": \"\"\n      }\n    },\n    {\n      \"column\": \"last_review\",\n      \"properties\": {\n        \"dtype\": \"category\",\n        \"num_unique_values\": 1290,\n        \"samples\": [\n          \"2019-06-28\",\n          \"2023-02-22\",\n          \"2021-08-22\"\n        ],\n        \"semantic_type\": \"\",\n        \"description\": \"\"\n      }\n    },\n    {\n      \"column\": \"reviews_per_month\",\n      \"properties\": {\n        \"dtype\": \"number\",\n        \"std\": 1.8626285879913023,\n        \"min\": 0.0,\n        \"max\": 80.45,\n        \"num_unique_values\": 740,\n        \"samples\": [\n          1.1,\n          4.39,\n          1.35\n        ],\n        \"semantic_type\": \"\",\n        \"description\": \"\"\n      }\n    },\n    {\n      \"column\": \"calculated_host_listings_count\",\n      \"properties\": {\n        \"dtype\": \"number\",\n        \"std\": 110,\n        \"min\": 1,\n        \"max\": 597,\n        \"num_unique_values\": 58,\n        \"samples\": [\n          1,\n          4,\n          28\n        ],\n        \"semantic_type\": \"\",\n        \"description\": \"\"\n      }\n    },\n    {\n      \"column\": \"availability_365\",\n      \"properties\": {\n        \"dtype\": \"number\",\n        \"std\": 131,\n        \"min\": 0,\n        \"max\": 365,\n        \"num_unique_values\": 366,\n        \"samples\": [\n          318,\n          315,\n          203\n        ],\n        \"semantic_type\": \"\",\n        \"description\": \"\"\n      }\n    },\n    {\n      \"column\": \"number_of_reviews_ltm\",\n      \"properties\": {\n        \"dtype\": \"number\",\n        \"std\": 19,\n        \"min\": 0,\n        \"max\": 642,\n        \"num_unique_values\": 141,\n        \"samples\": [\n          63,\n          187,\n          20\n        ],\n        \"semantic_type\": \"\",\n        \"description\": \"\"\n      }\n    },\n    {\n      \"column\": \"City\",\n      \"properties\": {\n        \"dtype\": \"category\",\n        \"num_unique_values\": 2,\n        \"samples\": [\n          \"New Orleans\",\n          \"Chicago\"\n        ],\n        \"semantic_type\": \"\",\n        \"description\": \"\"\n      }\n    }\n  ]\n}"
            }
          },
          "metadata": {},
          "execution_count": 26
        }
      ]
    }
  ]
}